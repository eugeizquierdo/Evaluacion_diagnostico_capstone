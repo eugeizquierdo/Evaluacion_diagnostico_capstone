{
 "cells": [
  {
   "cell_type": "markdown",
   "metadata": {},
   "source": [
    "# Evaluación diagnóstica git"
   ]
  },
  {
   "cell_type": "markdown",
   "metadata": {},
   "source": [
    "### Lectura de la base de datos"
   ]
  },
  {
   "cell_type": "code",
   "execution_count": 1,
   "metadata": {},
   "outputs": [],
   "source": [
    "import pandas as pd\n",
    "import json "
   ]
  },
  {
   "cell_type": "code",
   "execution_count": 2,
   "metadata": {},
   "outputs": [],
   "source": [
    "archivo_json = 'farmers-protest-tweets-2021-03-5.json'"
   ]
  },
  {
   "cell_type": "code",
   "execution_count": 4,
   "metadata": {},
   "outputs": [],
   "source": [
    "# son varios diccionarios. Primero los abrimos en modo read\n",
    "diccionarios = []\n",
    "with open(archivo_json, 'r', encoding='utf-8') as file_twitter:\n",
    "    for diccionario in file_twitter:\n",
    "        elemento = [json.loads(diccionario)]\n",
    "        diccionarios.append(elemento)"
   ]
  },
  {
   "cell_type": "code",
   "execution_count": 5,
   "metadata": {},
   "outputs": [
    {
     "name": "stdout",
     "output_type": "stream",
     "text": [
      "[{'url': 'https://twitter.com/ShashiRajbhar6/status/1376739399593910273', 'date': '2021-03-30T03:33:46+00:00', 'content': 'Support 👇\\n\\n#FarmersProtest', 'renderedContent': 'Support 👇\\n\\n#FarmersProtest', 'id': 1376739399593910273, 'user': {'username': 'ShashiRajbhar6', 'displayname': 'Shashi Rajbhar', 'id': 1015969769760096256, 'description': \"Satya presan 🤔ho Sakta but prajit💪 nhi\\njhuth se samjhauta kbhi nhi\\nJai Shree Ram 🕉 🙏🕉 followed by hon'ble @ArunrajbharSbsp\", 'rawDescription': \"Satya presan 🤔ho Sakta but prajit💪 nhi\\njhuth se samjhauta kbhi nhi\\nJai Shree Ram 🕉 🙏🕉 followed by hon'ble @ArunrajbharSbsp\", 'descriptionUrls': [], 'verified': False, 'created': '2018-07-08T14:44:03+00:00', 'followersCount': 1788, 'friendsCount': 1576, 'statusesCount': 14396, 'favouritesCount': 26071, 'listedCount': 1, 'mediaCount': 254, 'location': 'Azm Uttar Pradesh, India', 'protected': False, 'linkUrl': None, 'linkTcourl': None, 'profileImageUrl': 'https://pbs.twimg.com/profile_images/1354331299868237825/eDzdhZTD_normal.jpg', 'profileBannerUrl': 'https://pbs.twimg.com/profile_banners/1015969769760096256/1613727783', 'url': 'https://twitter.com/ShashiRajbhar6'}, 'outlinks': [], 'tcooutlinks': [], 'replyCount': 0, 'retweetCount': 0, 'likeCount': 0, 'quoteCount': 0, 'conversationId': 1376739399593910273, 'lang': 'en', 'source': '<a href=\"http://twitter.com/download/android\" rel=\"nofollow\">Twitter for Android</a>', 'sourceUrl': 'http://twitter.com/download/android', 'sourceLabel': 'Twitter for Android', 'media': None, 'retweetedTweet': None, 'quotedTweet': None, 'mentionedUsers': None}]\n"
     ]
    }
   ],
   "source": [
    "prueba = diccionarios[0]\n",
    "print(prueba)"
   ]
  },
  {
   "cell_type": "code",
   "execution_count": null,
   "metadata": {},
   "outputs": [],
   "source": [
    "\n",
    "#seleccionamos los datos\n",
    "lista_dict = []\n",
    "for dict in diccionarios:\n",
    "    diccionario = [dict['id'], dict['content'], dict['renderedContent'], dict['retweetCount'], dict['user'], dict['date']]\n",
    "    lista_dict.append(diccionario)"
   ]
  },
  {
   "cell_type": "code",
   "execution_count": null,
   "metadata": {},
   "outputs": [],
   "source": [
    "# Definimos el data frame y definimos su header\n",
    "dataframe_twitter = pd.DataFrame(lista_dict)\n",
    "dataframe_twitter.head()\n",
    "dataframe_twitter.columns = ['id', 'content', 'renderedContent', 'retweetCount', 'user', 'date']\n",
    "dataframe_twitter.head()"
   ]
  },
  {
   "cell_type": "markdown",
   "metadata": {},
   "source": [
    "## 1. Función 10 tweets más retweeted"
   ]
  },
  {
   "cell_type": "code",
   "execution_count": 11,
   "metadata": {},
   "outputs": [],
   "source": [
    "def top_tweets(data_frame):\n",
    "    #ordenamos de mayor a menor\n",
    "    df_orden_tweets = data_frame.sort_values('retweetCount', ascending=False)\n",
    "    top_tweets = []\n",
    "    \n",
    "    i = 0\n",
    "    while i < 10:\n",
    "        tweet = df_orden_tweets[i].content\n",
    "        top_tweets.append(tweet)\n",
    "        print(tweet)\n",
    "\n",
    "    return top_tweets\n"
   ]
  },
  {
   "cell_type": "markdown",
   "metadata": {},
   "source": [
    "## 2. Función top 10 usuarios según la cantidad de tweets que emitieron"
   ]
  },
  {
   "cell_type": "code",
   "execution_count": 6,
   "metadata": {},
   "outputs": [],
   "source": [
    "def top_usuarios(data_frame):\n",
    "    usuarios = [1, 2, 3, 4, 5, 6, 7, 8, 9, 10]\n",
    "    return usuarios\n"
   ]
  },
  {
   "cell_type": "markdown",
   "metadata": {},
   "source": [
    "## 3. Función top 10 días donde hay más tweets"
   ]
  },
  {
   "cell_type": "code",
   "execution_count": 7,
   "metadata": {},
   "outputs": [],
   "source": [
    "def top_dias(data_frame):\n",
    "#ordenamos de mayor a menor\n",
    "    df_orden_dias = data_frame.sort_values('date', ascending=False)\n",
    "    top_dias = []\n",
    "\n",
    "    i = 0\n",
    "    while i < 10:\n",
    "        tweet = df_orden_dias[i].content\n",
    "        top_dias.append(tweet)\n",
    "        print(tweet)\n",
    "\n",
    "    return top_dias"
   ]
  },
  {
   "cell_type": "markdown",
   "metadata": {},
   "source": [
    "## 4. Función top 10 hashtags más usados"
   ]
  },
  {
   "cell_type": "code",
   "execution_count": 8,
   "metadata": {},
   "outputs": [],
   "source": [
    "\n",
    "def top_hashtags(data_frame):\n",
    "    hashtags = [1, 2, 3, 4, 5, 6, 7, 8, 9, 10]\n",
    "    return hashtags"
   ]
  },
  {
   "cell_type": "markdown",
   "metadata": {},
   "source": [
    "## Función main"
   ]
  },
  {
   "cell_type": "code",
   "execution_count": 12,
   "metadata": {},
   "outputs": [],
   "source": [
    "def main(data_frame):\n",
    "    top_tweets(data_frame)\n",
    "    top_usuarios(data_frame)\n",
    "    top_dias(data_frame)\n",
    "    top_hashtags(data_frame)"
   ]
  },
  {
   "cell_type": "code",
   "execution_count": null,
   "metadata": {},
   "outputs": [],
   "source": [
    "main(dataframe_twitter)"
   ]
  },
  {
   "cell_type": "code",
   "execution_count": null,
   "metadata": {},
   "outputs": [],
   "source": []
  }
 ],
 "metadata": {
  "interpreter": {
   "hash": "4f046fbd84717a58cbd2935eb925d9f1e699f5a4d61e87291fa52205b2465232"
  },
  "kernelspec": {
   "display_name": "Python 3.9.12 64-bit (windows store)",
   "language": "python",
   "name": "python3"
  },
  "language_info": {
   "codemirror_mode": {
    "name": "ipython",
    "version": 3
   },
   "file_extension": ".py",
   "mimetype": "text/x-python",
   "name": "python",
   "nbconvert_exporter": "python",
   "pygments_lexer": "ipython3",
   "version": "3.9.7"
  },
  "orig_nbformat": 4
 },
 "nbformat": 4,
 "nbformat_minor": 2
}
